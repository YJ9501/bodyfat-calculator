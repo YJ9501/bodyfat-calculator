{
 "cells": [
  {
   "cell_type": "markdown",
   "metadata": {},
   "source": [
    "# Bodyfat Calculator"
   ]
  },
  {
   "cell_type": "markdown",
   "metadata": {},
   "source": [
    "Group member: Hongyi Jin, Wanwan Su, Yingjing Jiang"
   ]
  },
  {
   "cell_type": "markdown",
   "metadata": {},
   "source": [
    "Body fat percentage, a measure of obesity, plays an important role in various health outcomes such as life expectancy, prognosis for disease, healthcare costs, and the general well-being of individuals. Body fat percentage is helpful for people to have a basic knowledge of their health condiction. However, accurate measurement of body fat is often costly and inconvenient and it is desirable to have easy methods of estimating body fat that are not inconvenient/costly. \n",
    "\n",
    "In this module, we are going to come up with a simple and robust method to estimate percentage of body fat based on a real data set of 252 men with measurements of their percentage of body fat and other body measurements."
   ]
  },
  {
   "cell_type": "markdown",
   "metadata": {},
   "source": [
    "## 1.Data Processing"
   ]
  },
  {
   "cell_type": "markdown",
   "metadata": {},
   "source": [
    "### 1.1 Data Description"
   ]
  },
  {
   "cell_type": "code",
   "execution_count": 1,
   "metadata": {},
   "outputs": [
    {
     "name": "stderr",
     "output_type": "stream",
     "text": [
      "Loading required package: Matrix\n",
      "Loading required package: foreach\n",
      "Loaded glmnet 2.0-13\n",
      "\n",
      "\n",
      "Attaching package: ‘dplyr’\n",
      "\n",
      "The following object is masked from ‘package:car’:\n",
      "\n",
      "    recode\n",
      "\n",
      "The following objects are masked from ‘package:stats’:\n",
      "\n",
      "    filter, lag\n",
      "\n",
      "The following objects are masked from ‘package:base’:\n",
      "\n",
      "    intersect, setdiff, setequal, union\n",
      "\n"
     ]
    }
   ],
   "source": [
    "library(car)\n",
    "library(leaps)\n",
    "# library(faraway)\n",
    "library(glmnet)\n",
    "library(repr)\n",
    "library(dplyr)\n",
    "library(ggplot2)\n",
    "\n",
    "bf <- read.csv('~/Desktop/628Data Science Practice/module1/BodyFat.csv', header = TRUE)\n",
    "#bf <- read.csv('D:\\\\WISC\\\\STAT 628\\\\BodyFat.csv', header = TRUE)\n",
    "bf <- bf[ , -1]\n",
    "names(bf) <- tolower(names(bf))"
   ]
  },
  {
   "cell_type": "markdown",
   "metadata": {},
   "source": [
    "The data is a real collection of 252 men with measurements of their percentage of body fat and various body circumference measurements. There are totally 16 variables, including Body Density and Body Fat Percentage."
   ]
  },
  {
   "cell_type": "markdown",
   "metadata": {},
   "source": [
    "We first check the distribution of each variables in the data. Most variables distribute normally. However, several variables have some outliers faraway from other data points. We find that **patient 39** has a weight of 363 lbs and his circumferences of *biceps, knee, hip, thigh, abdomen, chest and neck*  are far larger than anyone else. Another fun fact is that **patient 182** has 0 bodyfat with smallest circumferences of *abdomen, hip, thigh, chest, adiposity and weight* amoung all the patients.  \n",
    "\n",
    "We consider these two patients as potential outliers in the data.\n",
    "\n",
    "ankle 31, 86 large than expected but still within threshold"
   ]
  },
  {
   "cell_type": "markdown",
   "metadata": {},
   "source": [
    "### 1.2 Verify Data"
   ]
  },
  {
   "cell_type": "markdown",
   "metadata": {},
   "source": [
    "#### Bodyfat\n",
    "\n",
    "The body fat is calculated from Siri's equation: $$Body fat = \\frac{495}{Density} - 450$$ \n",
    "We verify body fat data by density and plot a picture of body fat in the data vs calculated body fat. It's obvious that several body fat data points are quite different from the calculated one. \n",
    "\n",
    "There are 5 points whose differences between two types of body fat are larger than 2. We compare their body figures with other patients with similar body fat. We tend to keep the body fat in the data of **patient 48, 76, 96 and 216**. The difference in the other variables are not enough to say that the body fat value in the data is wrong. The **patient 182** has a 0 body fat in the data and -3% calculated body fat. Based on the fact this patient also has relatively smaller body figure than other people, the data of this patient may have some error or the patient is in some special condition. Thus this patient is not suitable for the model we are going to build. We exclude this point in our model.\n",
    "\n",
    "Then we delete the density in the data, as it's figure that very hard to obtain by people themselves and impossible to use in the calculator.  "
   ]
  },
  {
   "cell_type": "code",
   "execution_count": 2,
   "metadata": {},
   "outputs": [
    {
     "data": {
      "image/png": "[encoded data removed]",
      "text/plain": [
       "plot without title"
      ]
     },
     "metadata": {},
     "output_type": "display_data"
    }
   ],
   "source": [
    "bdfat <- 495/bf$density - 450\n",
    "options(repr.plot.width=4, repr.plot.height=3)\n",
    "par(mar = c(4, 4, 0.2, 0.2))\n",
    "plot(bf$bodyfat, bdfat, xlab = 'Body fat in the data', ylab = 'Calculated body fat')\n",
    "abline(1,1, lty = 2)"
   ]
  },
  {
   "cell_type": "code",
   "execution_count": 3,
   "metadata": {},
   "outputs": [
    {
     "data": {
      "text/html": [
       "<table>\n",
       "<thead><tr><th></th><th scope=col>cal_bodyfat</th><th scope=col>bodyfat</th><th scope=col>density</th><th scope=col>age</th><th scope=col>weight</th><th scope=col>height</th><th scope=col>adiposity</th><th scope=col>neck</th><th scope=col>chest</th><th scope=col>abdomen</th><th scope=col>hip</th><th scope=col>thigh</th><th scope=col>knee</th><th scope=col>ankle</th><th scope=col>biceps</th><th scope=col>forearm</th><th scope=col>wrist</th></tr></thead>\n",
       "<tbody>\n",
       "\t<tr><th scope=row>48</th><td>14.1350211</td><td> 6.4      </td><td>1.0665    </td><td>39        </td><td>148.50    </td><td>71.25     </td><td>20.6      </td><td>34.6      </td><td> 89.8     </td><td> 79.5     </td><td> 92.7     </td><td>52.7      </td><td>37.5      </td><td>21.9      </td><td>28.8      </td><td>26.8      </td><td>17.9      </td></tr>\n",
       "\t<tr><th scope=row>76</th><td>14.0915057</td><td>18.3      </td><td>1.0666    </td><td>61        </td><td>148.25    </td><td>67.50     </td><td>22.9      </td><td>36.0      </td><td> 91.6     </td><td> 81.8     </td><td> 94.8     </td><td>54.5      </td><td>37.0      </td><td>21.4      </td><td>29.3      </td><td>27.0      </td><td>18.3      </td></tr>\n",
       "\t<tr><th scope=row>96</th><td> 0.3684833</td><td>17.3      </td><td>1.0991    </td><td>53        </td><td>224.50    </td><td>77.75     </td><td>26.1      </td><td>41.1      </td><td>113.2     </td><td> 99.2     </td><td>107.5     </td><td>61.7      </td><td>42.3      </td><td>23.2      </td><td>32.9      </td><td>30.8      </td><td>20.4      </td></tr>\n",
       "\t<tr><th scope=row>182</th><td>-3.6116873</td><td> 0.0      </td><td>1.1089    </td><td>40        </td><td>118.50    </td><td>68.00     </td><td>18.1      </td><td>33.8      </td><td> 79.3     </td><td> 69.4     </td><td> 85.0     </td><td>47.2      </td><td>33.5      </td><td>20.2      </td><td>27.7      </td><td>24.6      </td><td>16.5      </td></tr>\n",
       "\t<tr><th scope=row>216</th><td>47.4874372</td><td>45.1      </td><td>0.9950    </td><td>51        </td><td>219.00    </td><td>64.00     </td><td>37.6      </td><td>41.2      </td><td>119.8     </td><td>122.1     </td><td>112.8     </td><td>62.5      </td><td>36.9      </td><td>23.6      </td><td>34.7      </td><td>29.1      </td><td>18.4      </td></tr>\n",
       "</tbody>\n",
       "</table>\n"
      ],
      "text/latex": [
       "\\begin{tabular}{r|lllllllllllllllll}\n",
       "  & cal\\_bodyfat & bodyfat & density & age & weight & height & adiposity & neck & chest & abdomen & hip & thigh & knee & ankle & biceps & forearm & wrist\\\\\n",
       "\\hline\n",
       "\t48 & 14.1350211 &  6.4       & 1.0665     & 39         & 148.50     & 71.25      & 20.6       & 34.6       &  89.8      &  79.5      &  92.7      & 52.7       & 37.5       & 21.9       & 28.8       & 26.8       & 17.9      \\\\\n",
       "\t76 & 14.0915057 & 18.3       & 1.0666     & 61         & 148.25     & 67.50      & 22.9       & 36.0       &  91.6      &  81.8      &  94.8      & 54.5       & 37.0       & 21.4       & 29.3       & 27.0       & 18.3      \\\\\n",
       "\t96 &  0.3684833 & 17.3       & 1.0991     & 53         & 224.50     & 77.75      & 26.1       & 41.1       & 113.2      &  99.2      & 107.5      & 61.7       & 42.3       & 23.2       & 32.9       & 30.8       & 20.4      \\\\\n",
       "\t182 & -3.6116873 &  0.0       & 1.1089     & 40         & 118.50     & 68.00      & 18.1       & 33.8       &  79.3      &  69.4      &  85.0      & 47.2       & 33.5       & 20.2       & 27.7       & 24.6       & 16.5      \\\\\n",
       "\t216 & 47.4874372 & 45.1       & 0.9950     & 51         & 219.00     & 64.00      & 37.6       & 41.2       & 119.8      & 122.1      & 112.8      & 62.5       & 36.9       & 23.6       & 34.7       & 29.1       & 18.4      \\\\\n",
       "\\end{tabular}\n"
      ],
      "text/markdown": [
       "\n",
       "| <!--/--> | cal_bodyfat | bodyfat | density | age | weight | height | adiposity | neck | chest | abdomen | hip | thigh | knee | ankle | biceps | forearm | wrist |\n",
       "|---|---|---|---|---|---|---|---|---|---|---|---|---|---|---|---|---|---|\n",
       "| 48 | 14.1350211 |  6.4       | 1.0665     | 39         | 148.50     | 71.25      | 20.6       | 34.6       |  89.8      |  79.5      |  92.7      | 52.7       | 37.5       | 21.9       | 28.8       | 26.8       | 17.9       |\n",
       "| 76 | 14.0915057 | 18.3       | 1.0666     | 61         | 148.25     | 67.50      | 22.9       | 36.0       |  91.6      |  81.8      |  94.8      | 54.5       | 37.0       | 21.4       | 29.3       | 27.0       | 18.3       |\n",
       "| 96 |  0.3684833 | 17.3       | 1.0991     | 53         | 224.50     | 77.75      | 26.1       | 41.1       | 113.2      |  99.2      | 107.5      | 61.7       | 42.3       | 23.2       | 32.9       | 30.8       | 20.4       |\n",
       "| 182 | -3.6116873 |  0.0       | 1.1089     | 40         | 118.50     | 68.00      | 18.1       | 33.8       |  79.3      |  69.4      |  85.0      | 47.2       | 33.5       | 20.2       | 27.7       | 24.6       | 16.5       |\n",
       "| 216 | 47.4874372 | 45.1       | 0.9950     | 51         | 219.00     | 64.00      | 37.6       | 41.2       | 119.8      | 122.1      | 112.8      | 62.5       | 36.9       | 23.6       | 34.7       | 29.1       | 18.4       |\n",
       "\n"
      ],
      "text/plain": [
       "    cal_bodyfat bodyfat density age weight height adiposity neck chest abdomen\n",
       "48  14.1350211   6.4    1.0665  39  148.50 71.25  20.6      34.6  89.8  79.5  \n",
       "76  14.0915057  18.3    1.0666  61  148.25 67.50  22.9      36.0  91.6  81.8  \n",
       "96   0.3684833  17.3    1.0991  53  224.50 77.75  26.1      41.1 113.2  99.2  \n",
       "182 -3.6116873   0.0    1.1089  40  118.50 68.00  18.1      33.8  79.3  69.4  \n",
       "216 47.4874372  45.1    0.9950  51  219.00 64.00  37.6      41.2 119.8 122.1  \n",
       "    hip   thigh knee ankle biceps forearm wrist\n",
       "48   92.7 52.7  37.5 21.9  28.8   26.8    17.9 \n",
       "76   94.8 54.5  37.0 21.4  29.3   27.0    18.3 \n",
       "96  107.5 61.7  42.3 23.2  32.9   30.8    20.4 \n",
       "182  85.0 47.2  33.5 20.2  27.7   24.6    16.5 \n",
       "216 112.8 62.5  36.9 23.6  34.7   29.1    18.4 "
      ]
     },
     "metadata": {},
     "output_type": "display_data"
    }
   ],
   "source": [
    "# options(repr.plot.width=4, repr.plot.height=4)\n",
    "# hist(bdfat - bf$bodyfat, breaks = 20, xlab = 'The difference of two body fat', main = 'Histgram of difference')\n",
    "sp_point <- which(abs(bdfat - bf$bodyfat) > 2)\n",
    "sp_data <- bf[sp_point, ] \n",
    "sp_data <- cbind(cal_bodyfat = bdfat[sp_point], sp_data)\n",
    "sp_data"
   ]
  },
  {
   "cell_type": "markdown",
   "metadata": {},
   "source": [
    "#### Adiposity(BMI)\n",
    "The adiposity is calculated by the weight and height. By simillar process like above, we find **patient 42** has wrong height data. We replace the height of **patient 42** with the height calculated by his weight and adiposity. After this, the value of this patient is reasonable. The relatively small data size is also one reason that we keep this patient rather than delete him.\n"
   ]
  },
  {
   "cell_type": "code",
   "execution_count": 4,
   "metadata": {},
   "outputs": [
    {
     "data": {
      "text/html": [
       "<table>\n",
       "<thead><tr><th></th><th scope=col>bodyfat</th><th scope=col>density</th><th scope=col>age</th><th scope=col>weight</th><th scope=col>height</th><th scope=col>adiposity</th><th scope=col>bmi</th><th scope=col>neck</th><th scope=col>chest</th><th scope=col>abdomen</th><th scope=col>hip</th><th scope=col>thigh</th><th scope=col>knee</th><th scope=col>ankle</th><th scope=col>biceps</th><th scope=col>forearm</th><th scope=col>wrist</th></tr></thead>\n",
       "<tbody>\n",
       "\t<tr><th scope=row>42</th><td>31.7    </td><td>1.025   </td><td>44      </td><td>205     </td><td>29.5    </td><td>29.9    </td><td>165.7671</td><td>36.6    </td><td>106     </td><td>104.3   </td><td>115.5   </td><td>70.6    </td><td>42.5    </td><td>23.7    </td><td>33.6    </td><td>28.7    </td><td>17.4    </td></tr>\n",
       "</tbody>\n",
       "</table>\n"
      ],
      "text/latex": [
       "\\begin{tabular}{r|lllllllllllllllll}\n",
       "  & bodyfat & density & age & weight & height & adiposity & bmi & neck & chest & abdomen & hip & thigh & knee & ankle & biceps & forearm & wrist\\\\\n",
       "\\hline\n",
       "\t42 & 31.7     & 1.025    & 44       & 205      & 29.5     & 29.9     & 165.7671 & 36.6     & 106      & 104.3    & 115.5    & 70.6     & 42.5     & 23.7     & 33.6     & 28.7     & 17.4    \\\\\n",
       "\\end{tabular}\n"
      ],
      "text/markdown": [
       "\n",
       "| <!--/--> | bodyfat | density | age | weight | height | adiposity | bmi | neck | chest | abdomen | hip | thigh | knee | ankle | biceps | forearm | wrist |\n",
       "|---|---|---|---|---|---|---|---|---|---|---|---|---|---|---|---|---|---|\n",
       "| 42 | 31.7     | 1.025    | 44       | 205      | 29.5     | 29.9     | 165.7671 | 36.6     | 106      | 104.3    | 115.5    | 70.6     | 42.5     | 23.7     | 33.6     | 28.7     | 17.4     |\n",
       "\n"
      ],
      "text/plain": [
       "   bodyfat density age weight height adiposity bmi      neck chest abdomen\n",
       "42 31.7    1.025   44  205    29.5   29.9      165.7671 36.6 106   104.3  \n",
       "   hip   thigh knee ankle biceps forearm wrist\n",
       "42 115.5 70.6  42.5 23.7  33.6   28.7    17.4 "
      ]
     },
     "metadata": {},
     "output_type": "display_data"
    }
   ],
   "source": [
    "bmi <-  (bf$weight*0.454)/(bf$height*2.54/100)^2\n",
    "# options(repr.plot.width=7, repr.plot.height=4)\n",
    "# hist(bmi - bf$adiposity, breaks = 20)\n",
    "sp_point1 <- which(abs(bmi - bf$adiposity) > 5)\n",
    "sp_data1 <- cbind(bf[sp_point1 , 1:6], bmi = bmi[sp_point1], bf[sp_point1, 7:16])\n",
    "sp_data1\n",
    "# 42 wrong height\n",
    "bf[42, ]$height <- round(sqrt((bf[42, ]$weight*0.454)/bf[42, ]$adiposity)*100/2.54, 2)\n",
    "\n",
    "bf <- bf[ , -2]"
   ]
  },
  {
   "cell_type": "markdown",
   "metadata": {},
   "source": [
    "### 1.3 Diagnose Data"
   ]
  },
  {
   "cell_type": "markdown",
   "metadata": {},
   "source": [
    "We then build a linear model to check the outliers. We can see that **patient 39, 86, 221** have very large cook's distance than other points. **Patient 39** has extremly large weight. We think he should be fitted by some special model. **Patient 86** has relatively large ankle circumference than people with similar body fat. **Patient 221** has relatively large abdomen circumference than people with similar body fat. Thus we exclude **patient 39** and keep other two in the data.\n",
    "\n",
    "\n",
    "To summarize, we exclued **patient 39, 182** in our model."
   ]
  },
  {
   "cell_type": "code",
   "execution_count": 5,
   "metadata": {},
   "outputs": [
    {
     "data": {
      "text/plain": [
       "\n",
       "Call:\n",
       "lm(formula = bodyfat ~ ., data = bf[-182, ])\n",
       "\n",
       "Residuals:\n",
       "     Min       1Q   Median       3Q      Max \n",
       "-10.1404  -2.6560  -0.1829   2.8760   9.2129 \n",
       "\n",
       "Coefficients:\n",
       "              Estimate Std. Error t value Pr(>|t|)    \n",
       "(Intercept) -45.960519  36.614590  -1.255  0.21063    \n",
       "age           0.059805   0.029831   2.005  0.04613 *  \n",
       "weight       -0.165638   0.100566  -1.647  0.10088    \n",
       "height        0.440213   0.507502   0.867  0.38660    \n",
       "adiposity     0.757834   0.732658   1.034  0.30203    \n",
       "neck         -0.437262   0.217818  -2.007  0.04584 *  \n",
       "chest        -0.057762   0.098941  -0.584  0.55991    \n",
       "abdomen       0.867115   0.085422  10.151  < 2e-16 ***\n",
       "hip          -0.209335   0.136098  -1.538  0.12536    \n",
       "thigh         0.225928   0.136029   1.661  0.09807 .  \n",
       "knee         -0.005154   0.229205  -0.022  0.98208    \n",
       "ankle         0.124407   0.208170   0.598  0.55066    \n",
       "biceps        0.160697   0.159800   1.006  0.31563    \n",
       "forearm       0.396265   0.185984   2.131  0.03415 *  \n",
       "wrist        -1.530607   0.493150  -3.104  0.00214 ** \n",
       "---\n",
       "Signif. codes:  0 ‘***’ 0.001 ‘**’ 0.01 ‘*’ 0.05 ‘.’ 0.1 ‘ ’ 1\n",
       "\n",
       "Residual standard error: 3.985 on 236 degrees of freedom\n",
       "Multiple R-squared:  0.7454,\tAdjusted R-squared:  0.7303 \n",
       "F-statistic: 49.36 on 14 and 236 DF,  p-value: < 2.2e-16\n"
      ]
     },
     "metadata": {},
     "output_type": "display_data"
    },
    {
     "data": {
      "text/plain": [
       "\n",
       "No Studentized residuals with Bonferonni p < 0.05\n",
       "Largest |rstudent|:\n",
       "     rstudent unadjusted p-value Bonferonni p\n",
       "221 -2.822621          0.0051714           NA"
      ]
     },
     "metadata": {},
     "output_type": "display_data"
    },
    {
     "data": {
      "image/png": "[encoded data removed]",
      "text/plain": [
       "Plot with title “”"
      ]
     },
     "metadata": {},
     "output_type": "display_data"
    }
   ],
   "source": [
    "fit1 <- lm(bodyfat ~ ., data = bf[-182, ])\n",
    "summary(fit1)\n",
    "plot(fit1, which = 4)\n",
    "abline(h = 4/(nrow(bf) - ncol(bf)), lty = 2)\n",
    "outlierTest(fit1)"
   ]
  },
  {
   "cell_type": "code",
   "execution_count": 6,
   "metadata": {},
   "outputs": [
    {
     "data": {
      "text/html": [
       "<table>\n",
       "<thead><tr><th></th><th scope=col>bodyfat</th><th scope=col>age</th><th scope=col>weight</th><th scope=col>height</th><th scope=col>adiposity</th><th scope=col>neck</th><th scope=col>chest</th><th scope=col>abdomen</th><th scope=col>hip</th><th scope=col>thigh</th><th scope=col>knee</th><th scope=col>ankle</th><th scope=col>biceps</th><th scope=col>forearm</th><th scope=col>wrist</th></tr></thead>\n",
       "<tbody>\n",
       "\t<tr><th scope=row>39</th><td>33.8  </td><td>46    </td><td>363.15</td><td>72.25 </td><td>48.9  </td><td>51.2  </td><td>136.2 </td><td>148.1 </td><td>147.7 </td><td>87.3  </td><td>49.1  </td><td>29.6  </td><td>45.0  </td><td>29.0  </td><td>21.4  </td></tr>\n",
       "\t<tr><th scope=row>86</th><td>25.8  </td><td>67    </td><td>167.00</td><td>67.50 </td><td>26.0  </td><td>36.5  </td><td> 98.9 </td><td> 89.7 </td><td> 96.2 </td><td>54.7  </td><td>37.8  </td><td>33.7  </td><td>32.4  </td><td>27.7  </td><td>18.2  </td></tr>\n",
       "\t<tr><th scope=row>221</th><td>12.7  </td><td>54    </td><td>153.25</td><td>70.50 </td><td>24.5  </td><td>38.5  </td><td> 99.0 </td><td> 91.8 </td><td> 96.2 </td><td>57.7  </td><td>38.1  </td><td>23.9  </td><td>31.4  </td><td>29.9  </td><td>18.9  </td></tr>\n",
       "</tbody>\n",
       "</table>\n"
      ],
      "text/latex": [
       "\\begin{tabular}{r|lllllllllllllll}\n",
       "  & bodyfat & age & weight & height & adiposity & neck & chest & abdomen & hip & thigh & knee & ankle & biceps & forearm & wrist\\\\\n",
       "\\hline\n",
       "\t39 & 33.8   & 46     & 363.15 & 72.25  & 48.9   & 51.2   & 136.2  & 148.1  & 147.7  & 87.3   & 49.1   & 29.6   & 45.0   & 29.0   & 21.4  \\\\\n",
       "\t86 & 25.8   & 67     & 167.00 & 67.50  & 26.0   & 36.5   &  98.9  &  89.7  &  96.2  & 54.7   & 37.8   & 33.7   & 32.4   & 27.7   & 18.2  \\\\\n",
       "\t221 & 12.7   & 54     & 153.25 & 70.50  & 24.5   & 38.5   &  99.0  &  91.8  &  96.2  & 57.7   & 38.1   & 23.9   & 31.4   & 29.9   & 18.9  \\\\\n",
       "\\end{tabular}\n"
      ],
      "text/markdown": [
       "\n",
       "| <!--/--> | bodyfat | age | weight | height | adiposity | neck | chest | abdomen | hip | thigh | knee | ankle | biceps | forearm | wrist |\n",
       "|---|---|---|---|---|---|---|---|---|---|---|---|---|---|---|---|\n",
       "| 39 | 33.8   | 46     | 363.15 | 72.25  | 48.9   | 51.2   | 136.2  | 148.1  | 147.7  | 87.3   | 49.1   | 29.6   | 45.0   | 29.0   | 21.4   |\n",
       "| 86 | 25.8   | 67     | 167.00 | 67.50  | 26.0   | 36.5   |  98.9  |  89.7  |  96.2  | 54.7   | 37.8   | 33.7   | 32.4   | 27.7   | 18.2   |\n",
       "| 221 | 12.7   | 54     | 153.25 | 70.50  | 24.5   | 38.5   |  99.0  |  91.8  |  96.2  | 57.7   | 38.1   | 23.9   | 31.4   | 29.9   | 18.9   |\n",
       "\n"
      ],
      "text/plain": [
       "    bodyfat age weight height adiposity neck chest abdomen hip   thigh knee\n",
       "39  33.8    46  363.15 72.25  48.9      51.2 136.2 148.1   147.7 87.3  49.1\n",
       "86  25.8    67  167.00 67.50  26.0      36.5  98.9  89.7    96.2 54.7  37.8\n",
       "221 12.7    54  153.25 70.50  24.5      38.5  99.0  91.8    96.2 57.7  38.1\n",
       "    ankle biceps forearm wrist\n",
       "39  29.6  45.0   29.0    21.4 \n",
       "86  33.7  32.4   27.7    18.2 \n",
       "221 23.9  31.4   29.9    18.9 "
      ]
     },
     "metadata": {},
     "output_type": "display_data"
    }
   ],
   "source": [
    "bf[c(39, 86, 221), ]"
   ]
  },
  {
   "cell_type": "markdown",
   "metadata": {},
   "source": [
    "## 2.Variable Selection"
   ]
  },
  {
   "cell_type": "markdown",
   "metadata": {},
   "source": [
    "### 2.1 Background"
   ]
  },
  {
   "cell_type": "markdown",
   "metadata": {},
   "source": [
    "There is a method to calculate body density accurately based on determining body volume by underwater submersion. But it is hard for doctors who want to and easily quickly determine a patient’s body fat percentage based on commonly available measurements to use.\n",
    "\n",
    "Accordind to some popular books, estimating the percentage of body fat is at least a part, considered to assess body health. The books show that age, skin-fold measurements and body circumference measurements are used to estimate body fat. Additionally, online body fat percentage calculators show that among age, skin-fold measurements and body circumference measurements, \"AGE\", \"WEIGHT\",\"HEIGHT\", \"WRIST\",HIP\" are often used.\n"
   ]
  },
  {
   "cell_type": "markdown",
   "metadata": {},
   "source": [
    "### 2.2 Stepwise selection\n",
    "\n",
    "We check the p-value of each variable in the full model, find that many vairbles are not significant in the model. In order to get a simple model, we first use stepwise method with AIC and BIC criteria to select variable."
   ]
  },
  {
   "cell_type": "code",
   "execution_count": 7,
   "metadata": {},
   "outputs": [
    {
     "data": {
      "text/plain": [
       "\n",
       "Call:\n",
       "lm(formula = bodyfat ~ ., data = bf[-182, ])\n",
       "\n",
       "Residuals:\n",
       "     Min       1Q   Median       3Q      Max \n",
       "-10.1404  -2.6560  -0.1829   2.8760   9.2129 \n",
       "\n",
       "Coefficients:\n",
       "              Estimate Std. Error t value Pr(>|t|)    \n",
       "(Intercept) -45.960519  36.614590  -1.255  0.21063    \n",
       "age           0.059805   0.029831   2.005  0.04613 *  \n",
       "weight       -0.165638   0.100566  -1.647  0.10088    \n",
       "height        0.440213   0.507502   0.867  0.38660    \n",
       "adiposity     0.757834   0.732658   1.034  0.30203    \n",
       "neck         -0.437262   0.217818  -2.007  0.04584 *  \n",
       "chest        -0.057762   0.098941  -0.584  0.55991    \n",
       "abdomen       0.867115   0.085422  10.151  < 2e-16 ***\n",
       "hip          -0.209335   0.136098  -1.538  0.12536    \n",
       "thigh         0.225928   0.136029   1.661  0.09807 .  \n",
       "knee         -0.005154   0.229205  -0.022  0.98208    \n",
       "ankle         0.124407   0.208170   0.598  0.55066    \n",
       "biceps        0.160697   0.159800   1.006  0.31563    \n",
       "forearm       0.396265   0.185984   2.131  0.03415 *  \n",
       "wrist        -1.530607   0.493150  -3.104  0.00214 ** \n",
       "---\n",
       "Signif. codes:  0 ‘***’ 0.001 ‘**’ 0.01 ‘*’ 0.05 ‘.’ 0.1 ‘ ’ 1\n",
       "\n",
       "Residual standard error: 3.985 on 236 degrees of freedom\n",
       "Multiple R-squared:  0.7454,\tAdjusted R-squared:  0.7303 \n",
       "F-statistic: 49.36 on 14 and 236 DF,  p-value: < 2.2e-16\n"
      ]
     },
     "metadata": {},
     "output_type": "display_data"
    }
   ],
   "source": [
    "summary(fit1)"
   ]
  },
  {
   "cell_type": "markdown",
   "metadata": {},
   "source": [
    "We write a function to perform backward and forward stepwise selection with AIC and BIC creitera on certain data."
   ]
  },
  {
   "cell_type": "code",
   "execution_count": 8,
   "metadata": {},
   "outputs": [],
   "source": [
    "regModel <- function(bf_data){\n",
    "  result <- list()\n",
    "  fit2 <- lm(bodyfat ~ ., data = bf_data) # without 2 outliers\n",
    "  fit2_AIC <- step(fit2, k = 2, direction = 'backward', trace = F)\n",
    "  fit2_BIC <- step(fit2, k = log(nrow(bf_data)), direction = 'backward', trace = F)\n",
    "  fit_base <- lm(bodyfat ~ 1, data =  bf_data)\n",
    "  base_AIC <- step(fit_base, scope = list(lower = ~ 1, upper = fit2), \n",
    "                   direction = 'forward', trace = F)\n",
    "  base_BIC <- step(fit_base, scope = list(lower = ~ 1, upper = fit2), \n",
    "                   k = log(nrow(bf_data)), direction = 'forward', trace = F) \n",
    "  result <- list()\n",
    "  result[['fit']] = fit2\n",
    "  result[['back_AIC']] = fit2_AIC\n",
    "  result[['back_BIC']] = fit2_BIC\n",
    "  result[['for_AIC']] = base_AIC\n",
    "  result[['for_BIC']] = base_BIC\n",
    "  return(result)\n",
    "}\n",
    "sumReg <- function(fun, reg, n = length(reg)){\n",
    "    out <- data.frame()\n",
    "  for(i in 1:n){\n",
    "    tmp <- data.frame(t(round(fun(reg[[i]]), 4)))\n",
    "    out <- bind_rows(out, tmp)\n",
    "  }\n",
    "    row.names(out) <- names(reg)\n",
    "    return(out)\n",
    "}\n",
    "\n",
    "Rsqr <- function(reg){\n",
    "    tmp <- data.frame()\n",
    "    for(i in 1:length(reg)){\n",
    "        out <- data.frame(\"R square\" =  round(summary(reg[[i]])$r.squared, 4), \n",
    "                          \"adj R square\" = round(summary(reg[[i]])$adj.r.squared, 4), \n",
    "                          \"number of var\" = length(reg[[i]]$coefficients)\n",
    "                         )\n",
    "        tmp <- rbind(tmp, out)\n",
    "    }\n",
    "    row.names(tmp) <- names(reg)\n",
    "    return(tmp)\n",
    "}"
   ]
  },
  {
   "cell_type": "markdown",
   "metadata": {},
   "source": [
    "After the stepwise selection, we first use the r square to evaluate how well the response variable is explained by the model. It's obvious that though the number of variables can be reduced a lot, the r squares are not effected as much. So all the models are valid. We plan to choose the forward BIC model which contains weightem abdomen and wrist, based on our goal of simplicity."
   ]
  },
  {
   "cell_type": "code",
   "execution_count": 9,
   "metadata": {},
   "outputs": [
    {
     "data": {
      "text/html": [
       "<table>\n",
       "<thead><tr><th></th><th scope=col>R.square</th><th scope=col>adj.R.square</th><th scope=col>number.of.var</th></tr></thead>\n",
       "<tbody>\n",
       "\t<tr><th scope=row>fit</th><td>0.7499</td><td>0.7349</td><td>15    </td></tr>\n",
       "\t<tr><th scope=row>back_AIC</th><td>0.7457</td><td>0.7373</td><td> 9    </td></tr>\n",
       "\t<tr><th scope=row>back_BIC</th><td>0.7382</td><td>0.7328</td><td> 6    </td></tr>\n",
       "\t<tr><th scope=row>for_AIC</th><td>0.7403</td><td>0.7339</td><td> 7    </td></tr>\n",
       "\t<tr><th scope=row>for_BIC</th><td>0.7314</td><td>0.7282</td><td> 4    </td></tr>\n",
       "</tbody>\n",
       "</table>\n"
      ],
      "text/latex": [
       "\\begin{tabular}{r|lll}\n",
       "  & R.square & adj.R.square & number.of.var\\\\\n",
       "\\hline\n",
       "\tfit & 0.7499 & 0.7349 & 15    \\\\\n",
       "\tback\\_AIC & 0.7457 & 0.7373 &  9    \\\\\n",
       "\tback\\_BIC & 0.7382 & 0.7328 &  6    \\\\\n",
       "\tfor\\_AIC & 0.7403 & 0.7339 &  7    \\\\\n",
       "\tfor\\_BIC & 0.7314 & 0.7282 &  4    \\\\\n",
       "\\end{tabular}\n"
      ],
      "text/markdown": [
       "\n",
       "| <!--/--> | R.square | adj.R.square | number.of.var |\n",
       "|---|---|---|---|\n",
       "| fit | 0.7499 | 0.7349 | 15     |\n",
       "| back_AIC | 0.7457 | 0.7373 |  9     |\n",
       "| back_BIC | 0.7382 | 0.7328 |  6     |\n",
       "| for_AIC | 0.7403 | 0.7339 |  7     |\n",
       "| for_BIC | 0.7314 | 0.7282 |  4     |\n",
       "\n"
      ],
      "text/plain": [
       "         R.square adj.R.square number.of.var\n",
       "fit      0.7499   0.7349       15           \n",
       "back_AIC 0.7457   0.7373        9           \n",
       "back_BIC 0.7382   0.7328        6           \n",
       "for_AIC  0.7403   0.7339        7           \n",
       "for_BIC  0.7314   0.7282        4           "
      ]
     },
     "metadata": {},
     "output_type": "display_data"
    },
    {
     "data": {
      "text/html": [
       "<table>\n",
       "<thead><tr><th></th><th scope=col>X.Intercept.</th><th scope=col>age</th><th scope=col>weight</th><th scope=col>height</th><th scope=col>adiposity</th><th scope=col>neck</th><th scope=col>chest</th><th scope=col>abdomen</th><th scope=col>hip</th><th scope=col>thigh</th><th scope=col>knee</th><th scope=col>ankle</th><th scope=col>biceps</th><th scope=col>forearm</th><th scope=col>wrist</th></tr></thead>\n",
       "<tbody>\n",
       "\t<tr><th scope=row>fit</th><td>-19.9976</td><td>0.0680  </td><td>-0.0804 </td><td>0.1746  </td><td>0.6433  </td><td>-0.3624 </td><td>-0.1497 </td><td>0.8200  </td><td>-0.1666 </td><td>0.1591  </td><td>-0.0571 </td><td>0.1351  </td><td>0.1580  </td><td>0.2340  </td><td>-1.6931 </td></tr>\n",
       "\t<tr><th scope=row>back_AIC</th><td>  4.5490</td><td>0.0612  </td><td>     NA </td><td>    NA  </td><td>0.6029  </td><td>-0.3732 </td><td>-0.2138 </td><td>0.7901  </td><td>-0.1668 </td><td>    NA  </td><td>     NA </td><td>    NA  </td><td>    NA  </td><td>0.2719  </td><td>-1.7621 </td></tr>\n",
       "\t<tr><th scope=row>back_BIC</th><td> -2.5658</td><td>0.0798  </td><td>     NA </td><td>    NA  </td><td>0.5403  </td><td>     NA </td><td>-0.2232 </td><td>0.7052  </td><td>     NA </td><td>    NA  </td><td>     NA </td><td>    NA  </td><td>    NA  </td><td>    NA  </td><td>-2.1101 </td></tr>\n",
       "\t<tr><th scope=row>for_AIC</th><td>-28.1821</td><td>0.0562  </td><td>-0.0988 </td><td>    NA  </td><td>    NA  </td><td>     NA </td><td>     NA </td><td>0.8164  </td><td>     NA </td><td>0.1688  </td><td>     NA </td><td>    NA  </td><td>0.2194  </td><td>    NA  </td><td>-1.6631 </td></tr>\n",
       "\t<tr><th scope=row>for_BIC</th><td>-23.4137</td><td>    NA  </td><td>-0.0854 </td><td>    NA  </td><td>    NA  </td><td>     NA </td><td>     NA </td><td>0.8859  </td><td>     NA </td><td>    NA  </td><td>     NA </td><td>    NA  </td><td>    NA  </td><td>    NA  </td><td>-1.3318 </td></tr>\n",
       "</tbody>\n",
       "</table>\n"
      ],
      "text/latex": [
       "\\begin{tabular}{r|lllllllllllllll}\n",
       "  & X.Intercept. & age & weight & height & adiposity & neck & chest & abdomen & hip & thigh & knee & ankle & biceps & forearm & wrist\\\\\n",
       "\\hline\n",
       "\tfit & -19.9976 & 0.0680   & -0.0804  & 0.1746   & 0.6433   & -0.3624  & -0.1497  & 0.8200   & -0.1666  & 0.1591   & -0.0571  & 0.1351   & 0.1580   & 0.2340   & -1.6931 \\\\\n",
       "\tback\\_AIC &   4.5490 & 0.0612   &      NA  &     NA   & 0.6029   & -0.3732  & -0.2138  & 0.7901   & -0.1668  &     NA   &      NA  &     NA   &     NA   & 0.2719   & -1.7621 \\\\\n",
       "\tback\\_BIC &  -2.5658 & 0.0798   &      NA  &     NA   & 0.5403   &      NA  & -0.2232  & 0.7052   &      NA  &     NA   &      NA  &     NA   &     NA   &     NA   & -2.1101 \\\\\n",
       "\tfor\\_AIC & -28.1821 & 0.0562   & -0.0988  &     NA   &     NA   &      NA  &      NA  & 0.8164   &      NA  & 0.1688   &      NA  &     NA   & 0.2194   &     NA   & -1.6631 \\\\\n",
       "\tfor\\_BIC & -23.4137 &     NA   & -0.0854  &     NA   &     NA   &      NA  &      NA  & 0.8859   &      NA  &     NA   &      NA  &     NA   &     NA   &     NA   & -1.3318 \\\\\n",
       "\\end{tabular}\n"
      ],
      "text/markdown": [
       "\n",
       "| <!--/--> | X.Intercept. | age | weight | height | adiposity | neck | chest | abdomen | hip | thigh | knee | ankle | biceps | forearm | wrist |\n",
       "|---|---|---|---|---|---|---|---|---|---|---|---|---|---|---|---|\n",
       "| fit | -19.9976 | 0.0680   | -0.0804  | 0.1746   | 0.6433   | -0.3624  | -0.1497  | 0.8200   | -0.1666  | 0.1591   | -0.0571  | 0.1351   | 0.1580   | 0.2340   | -1.6931  |\n",
       "| back_AIC |   4.5490 | 0.0612   |      NA  |     NA   | 0.6029   | -0.3732  | -0.2138  | 0.7901   | -0.1668  |     NA   |      NA  |     NA   |     NA   | 0.2719   | -1.7621  |\n",
       "| back_BIC |  -2.5658 | 0.0798   |      NA  |     NA   | 0.5403   |      NA  | -0.2232  | 0.7052   |      NA  |     NA   |      NA  |     NA   |     NA   |     NA   | -2.1101  |\n",
       "| for_AIC | -28.1821 | 0.0562   | -0.0988  |     NA   |     NA   |      NA  |      NA  | 0.8164   |      NA  | 0.1688   |      NA  |     NA   | 0.2194   |     NA   | -1.6631  |\n",
       "| for_BIC | -23.4137 |     NA   | -0.0854  |     NA   |     NA   |      NA  |      NA  | 0.8859   |      NA  |     NA   |      NA  |     NA   |     NA   |     NA   | -1.3318  |\n",
       "\n"
      ],
      "text/plain": [
       "         X.Intercept. age    weight  height adiposity neck    chest   abdomen\n",
       "fit      -19.9976     0.0680 -0.0804 0.1746 0.6433    -0.3624 -0.1497 0.8200 \n",
       "back_AIC   4.5490     0.0612      NA     NA 0.6029    -0.3732 -0.2138 0.7901 \n",
       "back_BIC  -2.5658     0.0798      NA     NA 0.5403         NA -0.2232 0.7052 \n",
       "for_AIC  -28.1821     0.0562 -0.0988     NA     NA         NA      NA 0.8164 \n",
       "for_BIC  -23.4137         NA -0.0854     NA     NA         NA      NA 0.8859 \n",
       "         hip     thigh  knee    ankle  biceps forearm wrist  \n",
       "fit      -0.1666 0.1591 -0.0571 0.1351 0.1580 0.2340  -1.6931\n",
       "back_AIC -0.1668     NA      NA     NA     NA 0.2719  -1.7621\n",
       "back_BIC      NA     NA      NA     NA     NA     NA  -2.1101\n",
       "for_AIC       NA 0.1688      NA     NA 0.2194     NA  -1.6631\n",
       "for_BIC       NA     NA      NA     NA     NA     NA  -1.3318"
      ]
     },
     "metadata": {},
     "output_type": "display_data"
    }
   ],
   "source": [
    "bf_data <- bf[c(-39, -182), ]\n",
    "reg_with_bmi <- regModel(bf_data)\n",
    "Rsqr(reg_with_bmi)\n",
    "sumReg(coef, reg_with_bmi)"
   ]
  },
  {
   "cell_type": "markdown",
   "metadata": {},
   "source": [
    "However, due to the exsitence of BMI, the multi-colinearity can be severe. We use VIF to detect the multi-colinearity in the model. We can see that after variable selection, the multi-colinearity has already been reduced a lot. Then we use ridge regression base on the model we selected to see whether we can do any further improvement."
   ]
  },
  {
   "cell_type": "code",
   "execution_count": 10,
   "metadata": {},
   "outputs": [
    {
     "data": {
      "text/html": [
       "<table>\n",
       "<thead><tr><th></th><th scope=col>age</th><th scope=col>weight</th><th scope=col>height</th><th scope=col>adiposity</th><th scope=col>neck</th><th scope=col>chest</th><th scope=col>abdomen</th><th scope=col>hip</th><th scope=col>thigh</th><th scope=col>knee</th><th scope=col>ankle</th><th scope=col>biceps</th><th scope=col>forearm</th><th scope=col>wrist</th></tr></thead>\n",
       "<tbody>\n",
       "\t<tr><th scope=row>fit</th><td>2.2549  </td><td>124.9698</td><td>28.5814 </td><td>92.7699 </td><td>3.9178  </td><td>11.0770 </td><td>12.2188 </td><td>12.2575 </td><td>7.2042  </td><td>4.4092  </td><td>1.8303  </td><td>3.3906  </td><td>2.4178  </td><td>3.1964  </td></tr>\n",
       "\t<tr><th scope=row>back_AIC</th><td>1.7036  </td><td>      NA</td><td>     NA </td><td> 9.0873 </td><td>3.4659  </td><td> 8.1577 </td><td>11.0512 </td><td> 6.2874 </td><td>    NA  </td><td>    NA  </td><td>    NA  </td><td>    NA  </td><td>2.1349  </td><td>2.6011  </td></tr>\n",
       "\t<tr><th scope=row>back_BIC</th><td>1.1516  </td><td>      NA</td><td>     NA </td><td> 8.3743 </td><td>    NA  </td><td> 7.8126 </td><td> 8.2839 </td><td>     NA </td><td>    NA  </td><td>    NA  </td><td>    NA  </td><td>    NA  </td><td>    NA  </td><td>1.7139  </td></tr>\n",
       "\t<tr><th scope=row>for_AIC</th><td>2.0435  </td><td> 11.8219</td><td>     NA </td><td>     NA </td><td>    NA  </td><td>     NA </td><td> 6.8539 </td><td>     NA </td><td>4.7008  </td><td>    NA  </td><td>    NA  </td><td>2.8251  </td><td>    NA  </td><td>2.6352  </td></tr>\n",
       "\t<tr><th scope=row>for_BIC</th><td>    NA  </td><td>  5.6125</td><td>     NA </td><td>     NA </td><td>    NA  </td><td>     NA </td><td> 4.2061 </td><td>     NA </td><td>    NA  </td><td>    NA  </td><td>    NA  </td><td>    NA  </td><td>    NA  </td><td>2.0623  </td></tr>\n",
       "</tbody>\n",
       "</table>\n"
      ],
      "text/latex": [
       "\\begin{tabular}{r|llllllllllllll}\n",
       "  & age & weight & height & adiposity & neck & chest & abdomen & hip & thigh & knee & ankle & biceps & forearm & wrist\\\\\n",
       "\\hline\n",
       "\tfit & 2.2549   & 124.9698 & 28.5814  & 92.7699  & 3.9178   & 11.0770  & 12.2188  & 12.2575  & 7.2042   & 4.4092   & 1.8303   & 3.3906   & 2.4178   & 3.1964  \\\\\n",
       "\tback\\_AIC & 1.7036   &       NA &      NA  &  9.0873  & 3.4659   &  8.1577  & 11.0512  &  6.2874  &     NA   &     NA   &     NA   &     NA   & 2.1349   & 2.6011  \\\\\n",
       "\tback\\_BIC & 1.1516   &       NA &      NA  &  8.3743  &     NA   &  7.8126  &  8.2839  &      NA  &     NA   &     NA   &     NA   &     NA   &     NA   & 1.7139  \\\\\n",
       "\tfor\\_AIC & 2.0435   &  11.8219 &      NA  &      NA  &     NA   &      NA  &  6.8539  &      NA  & 4.7008   &     NA   &     NA   & 2.8251   &     NA   & 2.6352  \\\\\n",
       "\tfor\\_BIC &     NA   &   5.6125 &      NA  &      NA  &     NA   &      NA  &  4.2061  &      NA  &     NA   &     NA   &     NA   &     NA   &     NA   & 2.0623  \\\\\n",
       "\\end{tabular}\n"
      ],
      "text/markdown": [
       "\n",
       "| <!--/--> | age | weight | height | adiposity | neck | chest | abdomen | hip | thigh | knee | ankle | biceps | forearm | wrist |\n",
       "|---|---|---|---|---|---|---|---|---|---|---|---|---|---|---|\n",
       "| fit | 2.2549   | 124.9698 | 28.5814  | 92.7699  | 3.9178   | 11.0770  | 12.2188  | 12.2575  | 7.2042   | 4.4092   | 1.8303   | 3.3906   | 2.4178   | 3.1964   |\n",
       "| back_AIC | 1.7036   |       NA |      NA  |  9.0873  | 3.4659   |  8.1577  | 11.0512  |  6.2874  |     NA   |     NA   |     NA   |     NA   | 2.1349   | 2.6011   |\n",
       "| back_BIC | 1.1516   |       NA |      NA  |  8.3743  |     NA   |  7.8126  |  8.2839  |      NA  |     NA   |     NA   |     NA   |     NA   |     NA   | 1.7139   |\n",
       "| for_AIC | 2.0435   |  11.8219 |      NA  |      NA  |     NA   |      NA  |  6.8539  |      NA  | 4.7008   |     NA   |     NA   | 2.8251   |     NA   | 2.6352   |\n",
       "| for_BIC |     NA   |   5.6125 |      NA  |      NA  |     NA   |      NA  |  4.2061  |      NA  |     NA   |     NA   |     NA   |     NA   |     NA   | 2.0623   |\n",
       "\n"
      ],
      "text/plain": [
       "         age    weight   height  adiposity neck   chest   abdomen hip    \n",
       "fit      2.2549 124.9698 28.5814 92.7699   3.9178 11.0770 12.2188 12.2575\n",
       "back_AIC 1.7036       NA      NA  9.0873   3.4659  8.1577 11.0512  6.2874\n",
       "back_BIC 1.1516       NA      NA  8.3743       NA  7.8126  8.2839      NA\n",
       "for_AIC  2.0435  11.8219      NA      NA       NA      NA  6.8539      NA\n",
       "for_BIC      NA   5.6125      NA      NA       NA      NA  4.2061      NA\n",
       "         thigh  knee   ankle  biceps forearm wrist \n",
       "fit      7.2042 4.4092 1.8303 3.3906 2.4178  3.1964\n",
       "back_AIC     NA     NA     NA     NA 2.1349  2.6011\n",
       "back_BIC     NA     NA     NA     NA     NA  1.7139\n",
       "for_AIC  4.7008     NA     NA 2.8251     NA  2.6352\n",
       "for_BIC      NA     NA     NA     NA     NA  2.0623"
      ]
     },
     "metadata": {},
     "output_type": "display_data"
    },
    {
     "data": {
      "text/html": [
       "<table>\n",
       "<thead><tr><th></th><th scope=col>lm</th><th scope=col>ridge</th></tr></thead>\n",
       "<tbody>\n",
       "\t<tr><th scope=row>MSE</th><td>15.57638</td><td>15.57895</td></tr>\n",
       "</tbody>\n",
       "</table>\n"
      ],
      "text/latex": [
       "\\begin{tabular}{r|ll}\n",
       "  & lm & ridge\\\\\n",
       "\\hline\n",
       "\tMSE & 15.57638 & 15.57895\\\\\n",
       "\\end{tabular}\n"
      ],
      "text/markdown": [
       "\n",
       "| <!--/--> | lm | ridge |\n",
       "|---|---|---|\n",
       "| MSE | 15.57638 | 15.57895 |\n",
       "\n"
      ],
      "text/plain": [
       "    lm       ridge   \n",
       "MSE 15.57638 15.57895"
      ]
     },
     "metadata": {},
     "output_type": "display_data"
    }
   ],
   "source": [
    "sumReg(vif, reg_with_bmi)\n",
    "\n",
    "fit_BIC <- lm(bodyfat ~ abdomen + weight + wrist, data = bf_data)\n",
    "\n",
    "lambda <- seq(0, 10, length.out = 50)\n",
    "bf_x <- model.matrix(fit_BIC)[ , -1]\n",
    "bf_y <- as.matrix(bf_data[ , 1])\n",
    "fit_r <- glmnet(bf_x, bf_y, alpha = 1, lambda = lambda)\n",
    "fit_r_cv <- cv.glmnet(bf_x, bf_y, alpha = 1)\n",
    "best_lam <- fit_r_cv$lambda.min\n",
    "\n",
    "pred_r <- predict(fit_r, s = best_lam, newx = bf_x, type = 'link')\n",
    "\n",
    "out <- data.frame(lm = mean(fit_BIC$residuals^2),\n",
    "                 ridge = mean((pred_r - bf_y)^2))\n",
    "row.names(out) <- 'MSE'\n",
    "out"
   ]
  },
  {
   "cell_type": "markdown",
   "metadata": {},
   "source": [
    "### 2.3 Mallow's cp"
   ]
  },
  {
   "cell_type": "markdown",
   "metadata": {},
   "source": [
    "For Mallow's Cp method, we select the subsets with minimum Cp values within different variable number $p$($p<k$, $k$ predictors in all) first. Then, we compare those Cp values with $p+1$ to get the best subset for us."
   ]
  },
  {
   "cell_type": "code",
   "execution_count": 11,
   "metadata": {},
   "outputs": [
    {
     "name": "stderr",
     "output_type": "stream",
     "text": [
      "Warning message in file(file, \"rt\"):\n",
      "“cannot open file '/Users/wanwansu/Desktop/628/module 1/BodyFat.csv': No such file or directory”"
     ]
    },
    {
     "ename": "ERROR",
     "evalue": "Error in file(file, \"rt\"): cannot open the connection\n",
     "output_type": "error",
     "traceback": [
      "Error in file(file, \"rt\"): cannot open the connection\nTraceback:\n",
      "1. read.csv(\"~/Desktop/628/module 1/BodyFat.csv\")",
      "2. read.table(file = file, header = header, sep = sep, quote = quote, \n .     dec = dec, fill = fill, comment.char = comment.char, ...)",
      "3. file(file, \"rt\")"
     ]
    }
   ],
   "source": [
    "dat=read.csv(\"~/Desktop/628/module 1/BodyFat.csv\")[,-1]\n",
    "dat=dat[,-2]\n",
    "\n",
    "m2=lm(BODYFAT~.,data=dat[-c(39,42),])\n",
    "\n",
    "X=model.matrix(m2)[,-1]\n",
    "Y=dat[-c(39,42),1]\n",
    "library(leaps) # for leaps()\n",
    "library(faraway) # for Cpplot()\n",
    "g=leaps(X,Y,nbest=1)\n",
    "layout(1)\n",
    "Cpplot(g)"
   ]
  },
  {
   "cell_type": "markdown",
   "metadata": {},
   "source": [
    "According to the figure, we can find that the model with predictor 1, 3, 6, 7, 13 and 14 is very close to the line($Cp=p+1$), and doesn't have too many predictors. We think it is the best choice for us."
   ]
  },
  {
   "cell_type": "code",
   "execution_count": 12,
   "metadata": {},
   "outputs": [
    {
     "ename": "ERROR",
     "evalue": "Error in is.data.frame(data): object 'dat' not found\n",
     "output_type": "error",
     "traceback": [
      "Error in is.data.frame(data): object 'dat' not found\nTraceback:\n",
      "1. lm(BODYFAT ~ ., data = dat[-c(39, 42), c(1, cp.choice)])",
      "2. eval(mf, parent.frame())",
      "3. eval(mf, parent.frame())",
      "4. stats::model.frame(formula = BODYFAT ~ ., data = dat[-c(39, 42), \n .     c(1, cp.choice)], drop.unused.levels = TRUE)",
      "5. model.frame.default(formula = BODYFAT ~ ., data = dat[-c(39, \n .     42), c(1, cp.choice)], drop.unused.levels = TRUE)",
      "6. is.data.frame(data)"
     ]
    }
   ],
   "source": [
    "cp.choice=c(2,4,7,8,14,15) \n",
    "model.cp=lm(BODYFAT~.,data=dat[-c(39,42),c(1,cp.choice)])\n",
    "summary(model.cp)\n",
    "print(\"cp_AIC:\")\n",
    "AIC(model.cp)\n",
    "print(\"cp_BIC:\")\n",
    "BIC(model.cp)\n",
    "\n",
    "MSE=sum((Y-predict(model.cp,newdata=dat[-c(39,42),-1]))^2)/250\n",
    "print(\"cp_MSE\")\n",
    "MSE"
   ]
  },
  {
   "cell_type": "markdown",
   "metadata": {},
   "source": [
    "AIC, BIC and MSE are shown above and they are small comparing with other models."
   ]
  },
  {
   "cell_type": "code",
   "execution_count": null,
   "metadata": {},
   "outputs": [],
   "source": []
  },
  {
   "cell_type": "markdown",
   "metadata": {},
   "source": [
    "### 2.4 LASSO"
   ]
  },
  {
   "cell_type": "code",
   "execution_count": 17,
   "metadata": {},
   "outputs": [
    {
     "data": {
      "text/html": [
       "0.421088878738858"
      ],
      "text/latex": [
       "0.421088878738858"
      ],
      "text/markdown": [
       "0.421088878738858"
      ],
      "text/plain": [
       "[1] 0.4210889"
      ]
     },
     "metadata": {},
     "output_type": "display_data"
    },
    {
     "data": {
      "image/png": "[encoded data removed]",
      "text/plain": [
       "plot without title"
      ]
     },
     "metadata": {},
     "output_type": "display_data"
    }
   ],
   "source": [
    "fit_lasso <- cv.glmnet(as.matrix(bf_data[,-1]),bf_data$bodyfat,family = \"gaussian\", type.measure = \"deviance\")\n",
    "fit_lasso$lambda.1se\n",
    "plot(fit_lasso)"
   ]
  },
  {
   "cell_type": "code",
   "execution_count": 14,
   "metadata": {},
   "outputs": [
    {
     "data": {
      "text/html": [
       "16.7857561473371"
      ],
      "text/latex": [
       "16.7857561473371"
      ],
      "text/markdown": [
       "16.7857561473371"
      ],
      "text/plain": [
       "[1] 16.78576"
      ]
     },
     "metadata": {},
     "output_type": "display_data"
    },
    {
     "data": {
      "text/plain": [
       "15 x 1 sparse Matrix of class \"dgCMatrix\"\n",
       "                      s0\n",
       "(Intercept) -10.65293708\n",
       "age           0.01274349\n",
       "weight        .         \n",
       "height       -0.26230367\n",
       "adiposity     .         \n",
       "neck          .         \n",
       "chest         .         \n",
       "abdomen       0.59955118\n",
       "hip           .         \n",
       "thigh         .         \n",
       "knee          .         \n",
       "ankle         .         \n",
       "biceps        .         \n",
       "forearm       .         \n",
       "wrist        -0.43549909"
      ]
     },
     "metadata": {},
     "output_type": "display_data"
    }
   ],
   "source": [
    "fit.lasso <- glmnet(as.matrix(bf_data[,-1]),bf_data$bodyfat,family = \"gaussian\", lambda = 0.507203045204555, alpha = 1)\n",
    "bodyfat_pre <- predict(fit.lasso, newx = as.matrix(bf_data[,-1]))\n",
    "mse.lasso <- sum((bodyfat_pre-bf_data$bodyfat)^2)/250\n",
    "mse.lasso\n",
    "coef(fit.lasso)"
   ]
  },
  {
   "cell_type": "markdown",
   "metadata": {},
   "source": [
    "Using the method of cross validation, the best lambda value is selected. With the lambda, we get the selected model:$bodyfat = -17.18118276 + 0.02178266 \\times age - 0.14059051\\times height + 0.59434639\\times adoman - 0.54395699\\times wrist$. The mean square error of the model is $16.9163567306706$."
   ]
  },
  {
   "cell_type": "markdown",
   "metadata": {},
   "source": [
    "## 3.Statistical Model"
   ]
  },
  {
   "cell_type": "markdown",
   "metadata": {},
   "source": [
    "### 3.1 Simple Linear Regression"
   ]
  },
  {
   "cell_type": "markdown",
   "metadata": {},
   "source": [
    "### 3.2 Ridge Regression"
   ]
  },
  {
   "cell_type": "code",
   "execution_count": null,
   "metadata": {},
   "outputs": [],
   "source": [
    "fit_BIC <- lm(bodyfat ~ abdomen + weight + wrist, data = bf_data)\n",
    "\n",
    "\n",
    "lambda <- seq(0, 10, length.out = 50)\n",
    "bf_x <- model.matrix(fit_BIC)[ , -1]\n",
    "bf_y <- as.matrix(bf_data[ , 1])\n",
    "fit_r <- glmnet(bf_x, bf_y, alpha = 1, lambda = lambda)\n",
    "fit_r_cv <- cv.glmnet(bf_x, bf_y, alpha = 1)\n",
    "best_lam <- fit_r_cv$lambda.min\n",
    "\n",
    "newx_r <- as.matrix(bf_test[ , c(8, 3, 15)])\n",
    "newx <- bf_test[ , c(3, 8, 15)]\n",
    "newy <- bf_test[ , 1]\n",
    "pred_r <- predict(fit_r, s = best_lam, newx = newx_r, type = 'link')\n",
    "\n",
    "print(mean((pred_r - newy)^2))\n",
    "print(mean((pred_lm - newy)^2))\n",
    "# not enough proof for improvement\n",
    "\n",
    "predict(fit_r, s = best_lam, newx = newx_r, type = 'coefficients')\n",
    "coef(fit_BIC)"
   ]
  },
  {
   "cell_type": "code",
   "execution_count": null,
   "metadata": {},
   "outputs": [],
   "source": []
  },
  {
   "cell_type": "markdown",
   "metadata": {},
   "source": [
    "### 3.3 Model Diagnose"
   ]
  },
  {
   "cell_type": "code",
   "execution_count": null,
   "metadata": {},
   "outputs": [],
   "source": []
  },
  {
   "cell_type": "code",
   "execution_count": null,
   "metadata": {},
   "outputs": [],
   "source": []
  },
  {
   "cell_type": "markdown",
   "metadata": {},
   "source": [
    "## 4.Summary"
   ]
  },
  {
   "cell_type": "code",
   "execution_count": null,
   "metadata": {},
   "outputs": [],
   "source": []
  }
 ],
 "metadata": {
  "kernelspec": {
   "display_name": "R",
   "language": "R",
   "name": "ir"
  },
  "language_info": {
   "codemirror_mode": "r",
   "file_extension": ".r",
   "mimetype": "text/x-r-source",
   "name": "R",
   "pygments_lexer": "r",
   "version": "3.4.3"
  }
 },
 "nbformat": 4,
 "nbformat_minor": 2
}
