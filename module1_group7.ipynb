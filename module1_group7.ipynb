{
 "cells": [
  {
   "cell_type": "markdown",
   "metadata": {},
   "source": [
    "# Bodyfat Calculator"
   ]
  },
  {
   "cell_type": "markdown",
   "metadata": {},
   "source": [
    "Group member: Hongyi Jin, Wanwan Su, Yingjing Jiang"
   ]
  },
  {
   "cell_type": "markdown",
   "metadata": {},
   "source": [
    "Body fat percentage, a measure of obesity, plays an important role in various health outcomes such as life expectancy, prognosis for disease, healthcare costs, and the general well-being of individuals. Body fat percentage is helpful for people to have a basic knowledge of their health condiction. However, accurate measurement of body fat is often costly and inconvenient and it is desirable to have easy methods of estimating body fat that are not inconvenient/costly. \n",
    "\n",
    "In this module, we are going to come up with a simple and robust method to estimate percentage of body fat based on a real data set of 252 men with measurements of their percentage of body fat and other body measurements."
   ]
  },
  {
   "cell_type": "markdown",
   "metadata": {},
   "source": [
    "## 1.Data Processing"
   ]
  },
  {
   "cell_type": "markdown",
   "metadata": {},
   "source": [
    "### 1.1 Data Description"
   ]
  },
  {
   "cell_type": "markdown",
   "metadata": {},
   "source": [
    "1. Health assessment method support: Accordind to some popular books, estimating the percentage of body fat is at least a part, considered to assess body health. The books show that age, skin-fold measurements and body circumference measurements are used to estimate body fat.\n",
    "2. Fact: Percentage of body fat for an individual can be estimated once body density has been determined. Therefore, we would try to figure out if body-fat percentage is highly-related with body density.\n",
    "3. Equation and  Definition:\n",
    "Siri (1956)) assume that the body consists of two components - lean body tissue and fat tissue.\n",
    "D = 1/[(A/a) + (B/b)], B = (1/D)*[ab/(a-b)] - [b/(a-b)], \n",
    "D = Body Density (gm/cm^3) \n",
    "A = proportion of lean body tissue \n",
    "B = proportion of fat tissue (A+B=1) \n",
    "a = density of lean body tissue (gm/cm^3) \n",
    "b = density of fat tissue (gm/cm^3), \n",
    "\n",
    "\"Siri's equation\":  \n",
    "Percentage of Body Fat (i.e. 100*B) = 495/D - 450.  \n",
    "From Siri's equation, we get the relationship between body fat percentage and  body density.\n",
    "4. There is a method to calculate body density accurately based on determining body volume by underwater submersion. But it is hard for doctors who want to and easily quickly determine a patient’s body fat percentage based on commonly available measurements to use.\n",
    "5. Available measurements and Data Description\n",
    "Age (years)  \n",
    "Weight (lbs)  \n",
    "Height (inches)  \n",
    "Adioposity (bmi)\n",
    "Neck circumference (cm)  \n",
    "Chest circumference (cm)  \n",
    "Abdomen 2 circumference (cm)  \n",
    "Hip circumference (cm)  \n",
    "Thigh circumference (cm)  \n",
    "Knee circumference (cm)  \n",
    "Ankle circumference (cm)  \n",
    "Biceps (extended) circumference (cm)  \n",
    "Forearm circumference (cm)  \n",
    "Wrist circumference (cm) \n",
    "\n",
    "\"Measurement standards are listed in Benhke and Wilmore (1974), pp. 45-48 where, for instance, the abdomen 2 circumference is measured \"laterally, at the level of the iliac crests, and anteriorly, at the umbilicus.\"\n",
    "\n",
    "Data Description:\n",
    "The data is a real collection of 252 men with measurements of their percentage of body fat and various body circumference measurements. There are totally 16 variables, including Body Density and Body Fat Percentage.\n"
   ]
  },
  {
   "cell_type": "code",
   "execution_count": 1,
   "metadata": {},
   "outputs": [
    {
     "name": "stderr",
     "output_type": "stream",
     "text": [
      "Loading required package: carData\n",
      "\n",
      "Attaching package: ‘faraway’\n",
      "\n",
      "The following objects are masked from ‘package:car’:\n",
      "\n",
      "    logit, vif\n",
      "\n",
      "Loading required package: Matrix\n",
      "Loading required package: foreach\n",
      "Loaded glmnet 2.0-16\n",
      "\n"
     ]
    }
   ],
   "source": [
    "library(car)\n",
    "library(leaps)\n",
    "library(faraway)\n",
    "library(glmnet)\n",
    "options(repr.plot.width=4, repr.plot.height=3)\n",
    "\n",
    "bf <- read.csv('~/Desktop/628/module 1/BodyFat.csv', header = TRUE)\n",
    "bf <- bf[ , -1]\n",
    "names(bf) <- tolower(names(bf))"
   ]
  },
  {
   "cell_type": "markdown",
   "metadata": {},
   "source": [
    "We first check the distribution of each variables in the data. Most variables distribute normally. However, several variables have some outliers faraway from other data points. We find that **patient 39** has a weight of 363 lbs and his circumferences of *biceps, knee, hip, thigh, abdomen, chest and neck*  are far larger than anyone else. Another fun fact is that **patient 182** has 0 bodyfat with smallest circumferences of *abdomen, hip, thigh, chest, adiposity and weight* amoung all the patients.  \n",
    "\n",
    "We consider these two patients as potential outliers in the data.\n",
    "\n",
    "ankle 31, 86 large than expected but still within threshold"
   ]
  },
  {
   "cell_type": "code",
   "execution_count": 2,
   "metadata": {},
   "outputs": [
    {
     "data": {
      "text/plain": [
       "    bodyfat         density           age            weight     \n",
       " Min.   : 0.00   Min.   :0.995   Min.   :22.00   Min.   :118.5  \n",
       " 1st Qu.:12.80   1st Qu.:1.041   1st Qu.:35.75   1st Qu.:159.0  \n",
       " Median :19.00   Median :1.055   Median :43.00   Median :176.5  \n",
       " Mean   :18.94   Mean   :1.056   Mean   :44.88   Mean   :178.9  \n",
       " 3rd Qu.:24.60   3rd Qu.:1.070   3rd Qu.:54.00   3rd Qu.:197.0  \n",
       " Max.   :45.10   Max.   :1.109   Max.   :81.00   Max.   :363.1  \n",
       "     height        adiposity          neck           chest       \n",
       " Min.   :29.50   Min.   :18.10   Min.   :31.10   Min.   : 79.30  \n",
       " 1st Qu.:68.25   1st Qu.:23.10   1st Qu.:36.40   1st Qu.: 94.35  \n",
       " Median :70.00   Median :25.05   Median :38.00   Median : 99.65  \n",
       " Mean   :70.15   Mean   :25.44   Mean   :37.99   Mean   :100.82  \n",
       " 3rd Qu.:72.25   3rd Qu.:27.32   3rd Qu.:39.42   3rd Qu.:105.38  \n",
       " Max.   :77.75   Max.   :48.90   Max.   :51.20   Max.   :136.20  \n",
       "    abdomen            hip            thigh            knee      \n",
       " Min.   : 69.40   Min.   : 85.0   Min.   :47.20   Min.   :33.00  \n",
       " 1st Qu.: 84.58   1st Qu.: 95.5   1st Qu.:56.00   1st Qu.:36.98  \n",
       " Median : 90.95   Median : 99.3   Median :59.00   Median :38.50  \n",
       " Mean   : 92.56   Mean   : 99.9   Mean   :59.41   Mean   :38.59  \n",
       " 3rd Qu.: 99.33   3rd Qu.:103.5   3rd Qu.:62.35   3rd Qu.:39.92  \n",
       " Max.   :148.10   Max.   :147.7   Max.   :87.30   Max.   :49.10  \n",
       "     ankle          biceps         forearm          wrist      \n",
       " Min.   :19.1   Min.   :24.80   Min.   :21.00   Min.   :15.80  \n",
       " 1st Qu.:22.0   1st Qu.:30.20   1st Qu.:27.30   1st Qu.:17.60  \n",
       " Median :22.8   Median :32.05   Median :28.70   Median :18.30  \n",
       " Mean   :23.1   Mean   :32.27   Mean   :28.66   Mean   :18.23  \n",
       " 3rd Qu.:24.0   3rd Qu.:34.33   3rd Qu.:30.00   3rd Qu.:18.80  \n",
       " Max.   :33.9   Max.   :45.00   Max.   :34.90   Max.   :21.40  "
      ]
     },
     "metadata": {},
     "output_type": "display_data"
    },
    {
     "ename": "ERROR",
     "evalue": "Error in replayPlot(obj): invalid graphics state\n",
     "execution_count": 2,
     "output_type": "error",
     "traceback": [
      "Error in replayPlot(obj): invalid graphics state\nTraceback:\n"
     ]
    },
    {
     "data": {
      "text/plain": [
       "Plot with title “distribution of wrist”"
      ]
     },
     "metadata": {},
     "output_type": "display_data",
     "source": "R display func"
    }
   ],
   "source": [
    "summary(bf)\n",
    "\n",
    "layout(matrix(1:ncol(bf), ncol = 4))\n",
    "for(i in 1:ncol(bf)){\n",
    "  hist(bf[, i], breaks = 30, main = paste0('distribution of ', names(bf)[i]), xlab = names(bf)[i])\n",
    "}\n",
    "layout(1)"
   ]
  },
  {
   "cell_type": "code",
   "execution_count": null,
   "metadata": {},
   "outputs": [],
   "source": []
  },
  {
   "cell_type": "code",
   "execution_count": null,
   "metadata": {},
   "outputs": [],
   "source": []
  },
  {
   "cell_type": "code",
   "execution_count": null,
   "metadata": {},
   "outputs": [],
   "source": []
  },
  {
   "cell_type": "markdown",
   "metadata": {},
   "source": [
    "### 1.2 Verify Data"
   ]
  },
  {
   "cell_type": "markdown",
   "metadata": {},
   "source": [
    "#### Bodyfat\n",
    "\n",
    "As the data discription shows, the body fat is calculated from Siri's equation: $$Body fat = \\frac{495}{Density} - 450$$ \n",
    "We can verify body fat data by density. We plot a picture of body fat in the data vs calculated body fat. It's obvious that several body fat data points are quite different from the calculated one. \n",
    "\n",
    "There are 5 points whose differences between two types of body fat are larger than 2. We compare their body figures with other patients with similar body fat. We tend to keep the body fat in the data of **patient 48, 76, 96 and 216**. The difference in the other variables are not enough to say that the body fat value in the data is wrong. The **patient 182** has a 0 body fat in the data and -3% calculated body fat. Based on the fact this patient also has relatively smaller body figure than other people, the data of this patient may have some error or the patient is in some special condition. Thus this patient is not suitable for the model we are going to build. We exclude this point in our model.\n",
    "\n",
    "Then we delete the density in the data, as it's figure that very hard to obtain by people themselves and impossible to use in the calculator.  "
   ]
  },
  {
   "cell_type": "code",
   "execution_count": null,
   "metadata": {},
   "outputs": [],
   "source": [
    "bdfat <- 495/bf$density - 450\n",
    "plot(bf$bodyfat, bdfat)\n",
    "abline(1,1, lty = 2)\n",
    "\n",
    "hist(bdfat - bf$bodyfat, breaks = 20)\n",
    "sp_point <- which(abs(bdfat - bf$bodyfat) > 2)\n",
    "sp_data <- bf[sp_point, ] \n",
    "sp_data <- cbind(bdfat[sp_point], sp_data)\n",
    "sp_data"
   ]
  },
  {
   "cell_type": "markdown",
   "metadata": {},
   "source": [
    "#### Adiposity(BMI)\n",
    "The adiposity is calculated by the weight and height. By simillar process like above, we find **patient 42** has wrong height data. We replace the height of **patient 42** with the height calculated by his weight and adiposity. After this, the value of this patient is reasonable. The relatively small data size is also one reason that we keep this patient rather than delete him.\n"
   ]
  },
  {
   "cell_type": "code",
   "execution_count": null,
   "metadata": {},
   "outputs": [],
   "source": [
    "bmi <-  (bf$weight*0.454)/(bf$height*2.54/100)^2\n",
    "hist(bmi - bf$adiposity, breaks = 20)\n",
    "sp_point1 <- which(abs(bmi - bf$adiposity) > 5)\n",
    "sp_data1 <- cbind(bf[sp_point1 , 1:6], bmi = bmi[sp_point1], bf[sp_point1, 7:16])\n",
    "sp_data1\n",
    "# 42 wrong height\n",
    "bf[42, ]$height <- round(sqrt((bf[42, ]$weight*0.454)/bf[42, ]$adiposity)*100/2.54, 2)\n",
    "\n",
    "bf <- bf[ , -2]"
   ]
  },
  {
   "cell_type": "markdown",
   "metadata": {},
   "source": [
    "### 1.3 Diagnose Data"
   ]
  },
  {
   "cell_type": "markdown",
   "metadata": {},
   "source": [
    "We then build a linear model to check the outliers. We can see that **patient 39, 86, 221** have very large cook's distance than other points. **Patient 39** has extremly large weight. We think he should be fitted by some special model. **Patient 86** has relatively large ankle circumference than people with similar body fat. **Patient 221** has relatively large abdomen circumference than people with similar body fat. Thus we exclude **patient 39** and keep other two in the data.\n",
    "\n",
    "\n",
    "To summarize, we exclued **patient 39, 182** in our model."
   ]
  },
  {
   "cell_type": "code",
   "execution_count": null,
   "metadata": {},
   "outputs": [],
   "source": [
    "fit1 <- lm(bodyfat ~ ., data = bf[-182, ])\n",
    "summary(fit1)\n",
    "plot(fit1, which = 4)\n",
    "abline(h = 4/(nrow(bf) - ncol(bf)), lty = 2)\n",
    "\n",
    "# outlierTest(fit1) # 221\n",
    "\n",
    "bf[c(39, 86, 221), ]"
   ]
  },
  {
   "cell_type": "markdown",
   "metadata": {},
   "source": [
    "## 2.Variable Selection"
   ]
  },
  {
   "cell_type": "markdown",
   "metadata": {},
   "source": [
    "### 2.1 Background"
   ]
  },
  {
   "cell_type": "markdown",
   "metadata": {},
   "source": [
    "There is a method to calculate body density accurately based on determining body volume by underwater submersion. But it is hard for doctors who want to and easily quickly determine a patient’s body fat percentage based on commonly available measurements to use.\n",
    "\n",
    "Accordind to some popular books, estimating the percentage of body fat is at least a part, considered to assess body health. The books show that age, skin-fold measurements and body circumference measurements are used to estimate body fat. Additionally, online body fat percentage calculators show that among age, skin-fold measurements and body circumference measurements, \"AGE\", \"WEIGHT\",\"HEIGHT\", \"WRIST\",HIP\" are often used.\n"
   ]
  },
  {
   "cell_type": "markdown",
   "metadata": {},
   "source": [
    "### 2.2 Stepwise selection"
   ]
  },
  {
   "cell_type": "code",
   "execution_count": null,
   "metadata": {},
   "outputs": [],
   "source": []
  },
  {
   "cell_type": "code",
   "execution_count": null,
   "metadata": {},
   "outputs": [],
   "source": [
    "regModel <- function(bf_data){\n",
    "  result <- list()\n",
    "  fit2 <- lm(bodyfat ~ ., data = bf_data) # without 2 outliers\n",
    "  layout(matrix(1:4, ncol = 2))\n",
    "  plot(fit2)\n",
    "  layout(1)\n",
    "  \n",
    "  fit2_AIC <- step(fit2, k = 2, direction = 'backward', trace = F)\n",
    "  fit2_BIC <- step(fit2, k = log(nrow(bf_data)), direction = 'backward', trace = F)\n",
    "\n",
    "  fit_base <- lm(bodyfat ~ 1, data =  bf_data)\n",
    "  base_AIC <- step(fit_base, scope = list(lower = ~ 1, upper = fit2), \n",
    "                   direction = 'forward', trace = F)\n",
    "  base_BIC <- step(fit_base, scope = list(lower = ~ 1, upper = fit2), \n",
    "                   k = log(nrow(bf_data)), direction = 'forward', trace = F)\n",
    "  \n",
    "  fit_both <- lm(bodyfat ~ weight + thigh + height + biceps + hip + wrist, data = bf_data)\n",
    "  fit_both_AIC <- step(fit_both, k = 2, scope = list(lower = ~ 1, upper = fit2), trace = F)\n",
    "  fit_both_BIC <- step(fit_both, k = log(nrow(bf_data)), scope = list(lower = ~ 1, upper = fit2), trace = F)\n",
    "\n",
    "  result <- list()\n",
    "  result[['fit']] = fit2\n",
    "  result[['back_AIC']] = fit2_AIC\n",
    "  result[['back_BIC']] = fit2_BIC\n",
    "  result[['for_AIC']] = base_AIC\n",
    "  result[['for_BIC']] = base_BIC\n",
    "  result[['both_AIC']] = fit_both_AIC\n",
    "  result[['both_BIC']] = fit_both_BIC\n",
    "\n",
    "  return(result)\n",
    "}\n",
    "\n",
    "sumReg <- function(fun, reg){\n",
    "  for(i in 1:7){\n",
    "    print(names(reg)[i])\n",
    "    cat(\"\\t\")\n",
    "    print(fun(reg[[i]]))\n",
    "  }\n",
    "}"
   ]
  },
  {
   "cell_type": "code",
   "execution_count": null,
   "metadata": {},
   "outputs": [],
   "source": [
    "bf_data <- bf[c(-39, -182), ]\n",
    "reg_with_bmi <- regModel(bf_data)\n",
    "reg_without_bmi <- regModel(bf_data[-5])\n",
    "\n",
    "sumReg(coef, reg_with_bmi)\n",
    "sumReg(coef, reg_without_bmi)\n",
    "sumReg(vif, reg_with_bmi)\n",
    "sumReg(vif, reg_without_bmi)\n",
    "sumReg(summary, reg_with_bmi)\n",
    "sumReg(summary, reg_without_bmi)"
   ]
  },
  {
   "cell_type": "markdown",
   "metadata": {},
   "source": [
    "### 2.3 Mallow's cp"
   ]
  },
  {
   "cell_type": "markdown",
   "metadata": {},
   "source": [
    "For Mallow's Cp method, we select the subsets with minimum Cp values within different variable number $p$($p<k$, $k$ predictors in all) first. Then, we compare those Cp values with $p+1$ to get the best subset for us."
   ]
  },
  {
   "cell_type": "code",
   "execution_count": null,
   "metadata": {},
   "outputs": [],
   "source": [
    "dat=read.csv(\"~/Desktop/628/module 1/BodyFat.csv\")[,-1]\n",
    "dat=dat[,-2]\n",
    "\n",
    "m2=lm(BODYFAT~.,data=dat[-c(39,42),])\n",
    "\n",
    "X=model.matrix(m2)[,-1]\n",
    "Y=dat[-c(39,42),1]\n",
    "library(leaps) # for leaps()\n",
    "library(faraway) # for Cpplot()\n",
    "g=leaps(X,Y,nbest=1)\n",
    "layout(1)\n",
    "Cpplot(g)"
   ]
  },
  {
   "cell_type": "markdown",
   "metadata": {},
   "source": [
    "According to the figure, we can find that the model with predictor 1, 3, 6, 7, 13 and 14 is very close to the line($Cp=p+1$), and doesn't have too many predictors. We think it is the best choice for us."
   ]
  },
  {
   "cell_type": "code",
   "execution_count": null,
   "metadata": {},
   "outputs": [],
   "source": [
    "cp.choice=c(2,4,7,8,14,15) \n",
    "model.cp=lm(BODYFAT~.,data=dat[-c(39,42),c(1,cp.choice)])\n",
    "summary(model.cp)\n",
    "print(\"cp_AIC:\")\n",
    "AIC(model.cp)\n",
    "print(\"cp_BIC:\")\n",
    "BIC(model.cp)\n",
    "\n",
    "MSE=sum((Y-predict(model.cp,newdata=dat[-c(39,42),-1]))^2)/250\n",
    "print(\"cp_MSE\")\n",
    "MSE"
   ]
  },
  {
   "cell_type": "markdown",
   "metadata": {},
   "source": [
    "AIC, BIC and MSE are shown above and they are small comparing with other models."
   ]
  },
  {
   "cell_type": "code",
   "execution_count": null,
   "metadata": {},
   "outputs": [],
   "source": []
  },
  {
   "cell_type": "markdown",
   "metadata": {},
   "source": [
    "### 2.4 LASSO"
   ]
  },
  {
   "cell_type": "code",
   "execution_count": null,
   "metadata": {},
   "outputs": [],
   "source": [
    "fit_lasso <- cv.glmnet(as.matrix(bf_data[,-1]),bf_data$bodyfat,family = \"gaussian\", type.measure = \"deviance\")\n",
    "fit_lasso$lambda.1se"
   ]
  },
  {
   "cell_type": "code",
   "execution_count": null,
   "metadata": {},
   "outputs": [],
   "source": [
    "fit.lasso <- glmnet(as.matrix(bf_data[,-1]),bf_data$bodyfat,family = \"gaussian\", lambda = 0.507203045204555, alpha = 1)\n",
    "bodyfat_pre <- predict(fit.lasso, newx = as.matrix(bf_data[,-1]))\n",
    "mse.lasso <- sum((bodyfat_pre-bf_data$bodyfat)^2)/250\n",
    "mse.lasso\n",
    "coef(fit.lasso)"
   ]
  },
  {
   "cell_type": "code",
   "execution_count": null,
   "metadata": {},
   "outputs": [],
   "source": []
  },
  {
   "cell_type": "markdown",
   "metadata": {},
   "source": [
    "## 3.Statistical Model"
   ]
  },
  {
   "cell_type": "markdown",
   "metadata": {},
   "source": [
    "### 3.1 Simple Linear Regression"
   ]
  },
  {
   "cell_type": "markdown",
   "metadata": {},
   "source": [
    "### 3.2 Ridge Regression"
   ]
  },
  {
   "cell_type": "code",
   "execution_count": null,
   "metadata": {},
   "outputs": [],
   "source": [
    "fit_BIC <- lm(bodyfat ~ abdomen + weight + wrist, data = bf_data)\n",
    "\n",
    "\n",
    "lambda <- seq(0, 10, length.out = 50)\n",
    "bf_x <- model.matrix(fit_BIC)[ , -1]\n",
    "bf_y <- as.matrix(bf_data[ , 1])\n",
    "fit_r <- glmnet(bf_x, bf_y, alpha = 1, lambda = lambda)\n",
    "fit_r_cv <- cv.glmnet(bf_x, bf_y, alpha = 1)\n",
    "best_lam <- fit_r_cv$lambda.min\n",
    "\n",
    "newx_r <- as.matrix(bf_test[ , c(8, 3, 15)])\n",
    "newx <- bf_test[ , c(3, 8, 15)]\n",
    "newy <- bf_test[ , 1]\n",
    "pred_r <- predict(fit_r, s = best_lam, newx = newx_r, type = 'link')\n",
    "\n",
    "print(mean((pred_r - newy)^2))\n",
    "print(mean((pred_lm - newy)^2))\n",
    "# not enough proof for improvement\n",
    "\n",
    "predict(fit_r, s = best_lam, newx = newx_r, type = 'coefficients')\n",
    "coef(fit_BIC)"
   ]
  },
  {
   "cell_type": "code",
   "execution_count": null,
   "metadata": {},
   "outputs": [],
   "source": []
  },
  {
   "cell_type": "markdown",
   "metadata": {},
   "source": [
    "### 3.3 Model Diagnose"
   ]
  },
  {
   "cell_type": "code",
   "execution_count": null,
   "metadata": {},
   "outputs": [],
   "source": []
  },
  {
   "cell_type": "code",
   "execution_count": null,
   "metadata": {},
   "outputs": [],
   "source": []
  },
  {
   "cell_type": "markdown",
   "metadata": {},
   "source": [
    "## 4.Summary"
   ]
  },
  {
   "cell_type": "code",
   "execution_count": null,
   "metadata": {},
   "outputs": [],
   "source": []
  }
 ],
 "metadata": {
  "kernelspec": {
   "display_name": "R",
   "language": "R",
   "name": "ir"
  },
  "language_info": {
   "codemirror_mode": "r",
   "file_extension": ".r",
   "mimetype": "text/x-r-source",
   "name": "R",
   "pygments_lexer": "r",
   "version": "3.5.1"
  }
 },
 "nbformat": 4,
 "nbformat_minor": 2
}
